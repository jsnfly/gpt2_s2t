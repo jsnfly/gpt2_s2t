{
 "cells": [
  {
   "cell_type": "code",
   "execution_count": null,
   "id": "90766d4f",
   "metadata": {},
   "outputs": [],
   "source": [
    "%load_ext autoreload\n",
    "%autoreload 2\n",
    "\n",
    "import torch\n",
    "import numpy as np\n",
    "from pathlib import Path"
   ]
  },
  {
   "cell_type": "code",
   "execution_count": null,
   "id": "42c11672",
   "metadata": {},
   "outputs": [],
   "source": [
    "DATA_PATH = Path('./data/timit')"
   ]
  },
  {
   "cell_type": "markdown",
   "id": "91f190c8",
   "metadata": {},
   "source": [
    "# Feature Extraction"
   ]
  },
  {
   "cell_type": "code",
   "execution_count": null,
   "id": "e25aacd8",
   "metadata": {},
   "outputs": [],
   "source": [
    "import soundfile as sf\n",
    "import shutil\n",
    "from datasets import load_dataset\n",
    "from transformers import Wav2Vec2Model, Wav2Vec2FeatureExtractor\n",
    "from gpt2_s2t.speech_feature_extraction import extract_features_to_files"
   ]
  },
  {
   "cell_type": "code",
   "execution_count": null,
   "id": "fc7a991f",
   "metadata": {
    "scrolled": true
   },
   "outputs": [],
   "source": [
    "if not DATA_PATH.exists():\n",
    "    timit = load_dataset('timit_asr')\n",
    "    \n",
    "    # Load Model for feature extraction.\n",
    "    wave2vec_name = 'facebook/wav2vec2-large-960h-lv60-self'\n",
    "    wave2vec_extractor = Wav2Vec2FeatureExtractor.from_pretrained(wave2vec_name)\n",
    "    wave2vec = Wav2Vec2Model.from_pretrained(wave2vec_name)\n",
    "    wave2vec.eval().cuda()\n",
    "    \n",
    "    # Extract audio and transcriptions.\n",
    "    def make_examples(ds_split):\n",
    "        examples = []\n",
    "        for eg in ds_split:\n",
    "            eg['audio'] = np.array(sf.read(eg['file'])[0])\n",
    "\n",
    "            # TODO: Temporary (?) Helper for generation since using empty `input_ids` lead to errors.\n",
    "            eg['transcription'] = 'Transcription: ' + eg['text']\n",
    "            \n",
    "            eg['id'] = '_'.join([eg['dialect_region'], eg['speaker_id'], eg['id']])\n",
    "            examples.append(eg)\n",
    "        return examples\n",
    "    \n",
    "    train_examples = make_examples(timit['train'])\n",
    "    test_examples = make_examples(timit['test'])\n",
    "        \n",
    "    # `max_len` is just the longest sample in the dataset (determined in advance).\n",
    "    extract_features_to_files(wave2vec, wave2vec_extractor, train_examples, \n",
    "                              batch_size=8, max_len=124621, output_path=DATA_PATH, val_pct=0.1)\n",
    "    extract_features_to_files(wave2vec, wave2vec_extractor, test_examples, \n",
    "                              batch_size=8, max_len=121140, output_path=DATA_PATH / 'test', val_pct=0)"
   ]
  },
  {
   "cell_type": "code",
   "execution_count": null,
   "id": "75ccf0f6",
   "metadata": {},
   "outputs": [],
   "source": [
    "wave2vec.cpu()\n",
    "torch.cuda.empty_cache()"
   ]
  },
  {
   "cell_type": "markdown",
   "id": "b2dd7a03",
   "metadata": {},
   "source": [
    "# Training"
   ]
  },
  {
   "cell_type": "code",
   "execution_count": null,
   "id": "c3ed54c6",
   "metadata": {},
   "outputs": [],
   "source": [
    "from accelerate import Accelerator\n",
    "from torch.utils.data import DataLoader\n",
    "from torch.optim import AdamW\n",
    "from transformers import AutoModelForCausalLM, GPT2Tokenizer\n",
    "from gpt2_s2t.model import S2TModel\n",
    "from gpt2_s2t.data_loading import S2TDataset, make_collate_fn"
   ]
  },
  {
   "cell_type": "code",
   "execution_count": null,
   "id": "e4f90308",
   "metadata": {},
   "outputs": [],
   "source": [
    "accelerator = Accelerator(fp16=True)\n",
    "print(f'Using {accelerator.device}.')\n",
    "\n",
    "tokenizer = GPT2Tokenizer.from_pretrained('gpt2')\n",
    "tokenizer.add_special_tokens({'pad_token': '_'})\n",
    "gpt2_model = AutoModelForCausalLM.from_pretrained('gpt2', add_cross_attention=True)"
   ]
  },
  {
   "cell_type": "code",
   "execution_count": null,
   "id": "dfef38f3",
   "metadata": {},
   "outputs": [],
   "source": [
    "model = S2TModel(gpt2_model)\n",
    "best_val_loss = 10\n",
    "\n",
    "# # Sometimes loss suddenly increases by a lot. Then the best saved model can be loaded here and trained further.\n",
    "# model.load_state_dict(torch.load('test.pt'))\n",
    "# best_val_loss = 0.71"
   ]
  },
  {
   "cell_type": "code",
   "execution_count": null,
   "id": "58719f95",
   "metadata": {},
   "outputs": [],
   "source": [
    "optimizer_grouped_parameters = [\n",
    "    {\n",
    "        \"params\": [p for n, p in model.named_parameters() if ('crossattention' in n or 'projection' in n)],\n",
    "        \"lr\": 5e-4,\n",
    "    },\n",
    "    {\n",
    "        \"params\": [p for n, p in model.named_parameters() if ('crossattention' not in n and 'projection' not in n)],\n",
    "        \"lr\": 1e-6,\n",
    "    },\n",
    "]\n",
    "optimizer = AdamW(optimizer_grouped_parameters, weight_decay=0.)"
   ]
  },
  {
   "cell_type": "code",
   "execution_count": null,
   "id": "c9a50973",
   "metadata": {},
   "outputs": [],
   "source": [
    "collate_fn = make_collate_fn(tokenizer)\n",
    "\n",
    "train_ds = S2TDataset(DATA_PATH / 'train')\n",
    "train_dl = DataLoader(train_ds, batch_size=16, shuffle=True, collate_fn=collate_fn, num_workers=8)\n",
    "\n",
    "val_ds = S2TDataset(DATA_PATH / 'val')\n",
    "val_dl = DataLoader(val_ds, batch_size=16, shuffle=True, collate_fn=collate_fn, num_workers=8)"
   ]
  },
  {
   "cell_type": "code",
   "execution_count": null,
   "id": "289c19a3",
   "metadata": {},
   "outputs": [],
   "source": [
    "model, optimizer, train_dl, val_dl = accelerator.prepare(model, optimizer, train_dl, val_dl)"
   ]
  },
  {
   "cell_type": "code",
   "execution_count": null,
   "id": "806afa12",
   "metadata": {},
   "outputs": [],
   "source": [
    "epochs = 40\n",
    "accumulate_gradients = 2\n",
    "\n",
    "for i in range(epochs):\n",
    "    \n",
    "    model.train()\n",
    "    for step, (encoder_hidden_states, input_ids) in enumerate(train_dl):\n",
    "        out = model(encoder_hidden_states, input_ids)\n",
    "        accelerator.backward(out.loss)\n",
    "        if step % 100 == 0:\n",
    "            print(out.loss.item())\n",
    "        if (step + 1) % accumulate_gradients == 0:\n",
    "            optimizer.step()\n",
    "            optimizer.zero_grad()\n",
    "            \n",
    "    model.eval()\n",
    "    val_losses = []\n",
    "    for step, (encoder_hidden_states, input_ids) in enumerate(val_dl):\n",
    "        with torch.no_grad():\n",
    "            out = model(encoder_hidden_states, input_ids)\n",
    "        val_losses.append(out.loss.item())\n",
    "    val_loss = np.array(val_losses).mean()\n",
    "    print('VAL: ', val_loss)\n",
    "    if val_loss < best_val_loss:\n",
    "        torch.save(model.state_dict(), 'test_timit.pt')\n",
    "        best_val_loss = val_loss"
   ]
  },
  {
   "cell_type": "markdown",
   "id": "d5cba321",
   "metadata": {},
   "source": [
    "# Test"
   ]
  },
  {
   "cell_type": "code",
   "execution_count": null,
   "id": "4b9081d6",
   "metadata": {},
   "outputs": [],
   "source": [
    "model.load_state_dict(torch.load('test_timit.pt'))\n",
    "model.eval()"
   ]
  },
  {
   "cell_type": "code",
   "execution_count": null,
   "id": "bb1878b4",
   "metadata": {},
   "outputs": [],
   "source": [
    "test_ds = S2TDataset(DATA_PATH / 'test')\n",
    "test_dl = DataLoader(test_ds, batch_size=16, shuffle=False, collate_fn=collate_fn, num_workers=8)\n",
    "test_dl = accelerator.prepare(test_dl)"
   ]
  },
  {
   "cell_type": "code",
   "execution_count": null,
   "id": "a4ed3042",
   "metadata": {},
   "outputs": [],
   "source": [
    "# Test loss.\n",
    "test_losses = []\n",
    "for step, (encoder_hidden_states, input_ids) in enumerate(test_dl):\n",
    "    with torch.no_grad():\n",
    "        out = model(encoder_hidden_states, input_ids)\n",
    "    test_losses.append(out.loss.item())\n",
    "test_loss = np.array(test_losses).mean()\n",
    "print('TEST: ', test_loss)"
   ]
  },
  {
   "cell_type": "code",
   "execution_count": null,
   "id": "9d918f6b",
   "metadata": {},
   "outputs": [],
   "source": [
    "def get_prediction(example):\n",
    "    with torch.no_grad():\n",
    "        input_ids = tokenizer('Transcription:', return_tensors='pt')['input_ids'].cuda()\n",
    "        encoder_states = example['wave2vec_features'][None, ...].cuda()\n",
    "\n",
    "        for k in range(40):\n",
    "            out = model(encoder_states, input_ids)\n",
    "            input_ids = torch.cat([input_ids, out.logits.argmax(-1)[0, -1][None, None]], dim=-1)\n",
    "\n",
    "    return tokenizer.decode(input_ids[0]).replace('_', '')"
   ]
  },
  {
   "cell_type": "code",
   "execution_count": null,
   "id": "1396d9a9",
   "metadata": {},
   "outputs": [],
   "source": [
    "# Prediction on random validation example.\n",
    "eg = test_ds[np.random.randint(len(test_ds))]\n",
    "prefix_len = len('Transcription: ')\n",
    "predicted_text = get_prediction(eg)\n",
    "\n",
    "print('PRED:', predicted_text[prefix_len:])\n",
    "print('GOLD:', eg['transcription'][prefix_len:])"
   ]
  },
  {
   "cell_type": "code",
   "execution_count": null,
   "id": "a11d006f",
   "metadata": {},
   "outputs": [],
   "source": [
    "def get_prediction_batched(encoder_hidden_states, input_ids, prefix_len):\n",
    "    with torch.no_grad():\n",
    "        for k in range(35):\n",
    "            out = model(encoder_hidden_states, input_ids)\n",
    "            input_ids = torch.cat([input_ids, out.logits.argmax(-1)[:, -1].unsqueeze(-1)], dim=-1)\n",
    "    return [tokenizer.decode(ids).replace('_', '')[prefix_len:] for ids in input_ids]"
   ]
  },
  {
   "cell_type": "code",
   "execution_count": null,
   "id": "a6b4e794",
   "metadata": {},
   "outputs": [],
   "source": [
    "test_preds = []\n",
    "for batch in test_dl:\n",
    "    encoder_hidden_states, _ = batch\n",
    "    input_ids = tokenizer(\n",
    "        ['Transcription:'] * encoder_hidden_states.shape[0], return_tensors='pt', padding=True\n",
    "    ).input_ids.cuda()\n",
    "    \n",
    "    test_preds += get_prediction_batched(encoder_hidden_states, input_ids, prefix_len)"
   ]
  },
  {
   "cell_type": "code",
   "execution_count": null,
   "id": "a054b140",
   "metadata": {},
   "outputs": [],
   "source": [
    "test_golds = [eg['transcription'][prefix_len:] for eg in test_ds]"
   ]
  },
  {
   "cell_type": "code",
   "execution_count": null,
   "id": "afdcf16b",
   "metadata": {},
   "outputs": [],
   "source": [
    "import jiwer\n",
    "\n",
    "transformation = jiwer.Compose([\n",
    "    jiwer.ToLowerCase(),\n",
    "    jiwer.RemoveWhiteSpace(replace_by_space=True),\n",
    "    jiwer.RemoveMultipleSpaces(),\n",
    "    jiwer.Strip(),\n",
    "    jiwer.ReduceToListOfListOfWords(word_delimiter=\" \")\n",
    "])\n",
    "\n",
    "jiwer.wer(\n",
    "    test_golds, \n",
    "    test_preds, \n",
    "    truth_transform=transformation, \n",
    "    hypothesis_transform=transformation\n",
    ")"
   ]
  }
 ],
 "metadata": {
  "kernelspec": {
   "display_name": "Python 3",
   "language": "python",
   "name": "python3"
  },
  "language_info": {
   "codemirror_mode": {
    "name": "ipython",
    "version": 3
   },
   "file_extension": ".py",
   "mimetype": "text/x-python",
   "name": "python",
   "nbconvert_exporter": "python",
   "pygments_lexer": "ipython3",
   "version": "3.9.5"
  }
 },
 "nbformat": 4,
 "nbformat_minor": 5
}
