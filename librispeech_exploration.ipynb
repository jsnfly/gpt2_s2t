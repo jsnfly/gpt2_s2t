{
 "cells": [
  {
   "cell_type": "code",
   "execution_count": null,
   "id": "87e31f26",
   "metadata": {},
   "outputs": [],
   "source": [
    "%load_ext autoreload\n",
    "%autoreload 2"
   ]
  },
  {
   "cell_type": "markdown",
   "id": "7ca24cf5",
   "metadata": {},
   "source": [
    "# Data exploration"
   ]
  },
  {
   "cell_type": "code",
   "execution_count": null,
   "id": "1c85c126",
   "metadata": {},
   "outputs": [],
   "source": [
    "import IPython.display as ipd\n",
    "import matplotlib.pyplot as plt\n",
    "from datasets import load_dataset_builder, load_dataset"
   ]
  },
  {
   "cell_type": "code",
   "execution_count": null,
   "id": "ffb88043",
   "metadata": {},
   "outputs": [],
   "source": [
    "ds_builder = load_dataset_builder('librispeech_asr', 'clean')"
   ]
  },
  {
   "cell_type": "code",
   "execution_count": null,
   "id": "bf870e90",
   "metadata": {},
   "outputs": [],
   "source": [
    "print(ds_builder.info.description)"
   ]
  },
  {
   "cell_type": "code",
   "execution_count": null,
   "id": "6b9acb20",
   "metadata": {},
   "outputs": [],
   "source": [
    "ds_builder.info.splits"
   ]
  },
  {
   "cell_type": "code",
   "execution_count": null,
   "id": "3aa86494",
   "metadata": {},
   "outputs": [],
   "source": [
    "librispeech_train = load_dataset('librispeech_asr', 'clean', split='train.100')\n",
    "librispeech_val = load_dataset('librispeech_asr', 'clean', split='validation')\n",
    "librispeech_test = load_dataset('librispeech_asr', 'clean', split='test')"
   ]
  },
  {
   "cell_type": "code",
   "execution_count": null,
   "id": "471a9b6f",
   "metadata": {},
   "outputs": [],
   "source": [
    "def get_lengths(dataset):\n",
    "    # By iterating like this, the audio data is loaded automatically.\n",
    "    return [dataset[idx]['audio']['array'].shape[0] for idx in range(len(dataset))]\n",
    "\n",
    "def plot_histogram(lengths):\n",
    "    print(f'Minimum: {min(lengths)}, Maximum: {max(lengths)}')\n",
    "    plt.hist(lengths)\n",
    "    plt.show()\n",
    "    \n",
    "lens_train = get_lengths(librispeech_train)\n",
    "lens_val = get_lengths(librispeech_val)\n",
    "lens_test = get_lengths(librispeech_test)"
   ]
  },
  {
   "cell_type": "code",
   "execution_count": null,
   "id": "8491f69b-f635-47bf-a09f-eeb23ea3b9d6",
   "metadata": {},
   "outputs": [],
   "source": [
    "# Train.\n",
    "plot_histogram(lens_train)\n",
    "len([l for l in lens_train if l > 300_000])"
   ]
  },
  {
   "cell_type": "code",
   "execution_count": null,
   "id": "87a73a16",
   "metadata": {},
   "outputs": [],
   "source": [
    "# Val.\n",
    "plot_histogram(lens_val)\n",
    "len([l for l in lens_val if l > 300_000])"
   ]
  },
  {
   "cell_type": "code",
   "execution_count": null,
   "id": "0cff0a0f",
   "metadata": {},
   "outputs": [],
   "source": [
    "# Test.\n",
    "plot_histogram(lens_test)\n",
    "len([l for l in lens_test if l > 300_000])"
   ]
  },
  {
   "cell_type": "code",
   "execution_count": null,
   "id": "dee5eb91",
   "metadata": {},
   "outputs": [],
   "source": [
    "eg = librispeech_test[lens_test.index(559280)]\n",
    "print(eg['text'])\n",
    "audio = eg['audio']['array']\n",
    "ipd.Audio(audio, rate=16_000)"
   ]
  },
  {
   "cell_type": "code",
   "execution_count": null,
   "id": "20f7ac1f",
   "metadata": {},
   "outputs": [],
   "source": [
    "# Text seems to be normalized to only uppercase and no punctuation -> Probably not a suitable dataset."
   ]
  }
 ],
 "metadata": {
  "kernelspec": {
   "display_name": "Python 3",
   "language": "python",
   "name": "python3"
  },
  "language_info": {
   "codemirror_mode": {
    "name": "ipython",
    "version": 3
   },
   "file_extension": ".py",
   "mimetype": "text/x-python",
   "name": "python",
   "nbconvert_exporter": "python",
   "pygments_lexer": "ipython3",
   "version": "3.9.5"
  }
 },
 "nbformat": 4,
 "nbformat_minor": 5
}
